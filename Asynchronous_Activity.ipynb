{
  "nbformat": 4,
  "nbformat_minor": 0,
  "metadata": {
    "colab": {
      "provenance": [],
      "authorship_tag": "ABX9TyOsq3dyCFJKm86EczflKsC+",
      "include_colab_link": true
    },
    "kernelspec": {
      "name": "python3",
      "display_name": "Python 3"
    },
    "language_info": {
      "name": "python"
    }
  },
  "cells": [
    {
      "cell_type": "markdown",
      "metadata": {
        "id": "view-in-github",
        "colab_type": "text"
      },
      "source": [
        "<a href=\"https://colab.research.google.com/github/E-Baniqued/PLNG211-2-OLFU-QC/blob/main/Asynchronous_Activity.ipynb\" target=\"_parent\"><img src=\"https://colab.research.google.com/assets/colab-badge.svg\" alt=\"Open In Colab\"/></a>"
      ]
    },
    {
      "cell_type": "code",
      "execution_count": 21,
      "metadata": {
        "colab": {
          "base_uri": "https://localhost:8080/"
        },
        "id": "5MHWRsW0Unaq",
        "outputId": "b8946795-1a2c-4c5a-d4fd-ccaef80e471b"
      },
      "outputs": [
        {
          "output_type": "stream",
          "name": "stdout",
          "text": [
            "Salary: 9000\n",
            "Taxable Amount: 2700.0\n",
            "Net Pay: 6300.0\n"
          ]
        }
      ],
      "source": [
        "Salary_rate = 600\n",
        "Salary = 600 * 15\n",
        "Taxable_amount = Salary * 0.3\n",
        "Net_pay = Salary - Taxable_amount\n",
        "print(\"Salary:\", Salary)\n",
        "print(\"Taxable Amount:\", Taxable_amount)\n",
        "print(\"Net Pay:\", Net_pay)"
      ]
    }
  ]
}