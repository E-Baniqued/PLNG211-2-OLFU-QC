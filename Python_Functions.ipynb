{
  "nbformat": 4,
  "nbformat_minor": 0,
  "metadata": {
    "colab": {
      "provenance": [],
      "authorship_tag": "ABX9TyMoFT520X+hikToi0mD/H51",
      "include_colab_link": true
    },
    "kernelspec": {
      "name": "python3",
      "display_name": "Python 3"
    },
    "language_info": {
      "name": "python"
    }
  },
  "cells": [
    {
      "cell_type": "markdown",
      "metadata": {
        "id": "view-in-github",
        "colab_type": "text"
      },
      "source": [
        "<a href=\"https://colab.research.google.com/github/E-Baniqued/PLNG211-2-OLFU-QC/blob/main/Python_Functions.ipynb\" target=\"_parent\"><img src=\"https://colab.research.google.com/assets/colab-badge.svg\" alt=\"Open In Colab\"/></a>"
      ]
    },
    {
      "cell_type": "code",
      "execution_count": null,
      "metadata": {
        "colab": {
          "base_uri": "https://localhost:8080/"
        },
        "id": "5LFb2FN3d9sx",
        "outputId": "18c9cc77-62d4-42ed-8675-60f0ed052ae6"
      },
      "outputs": [
        {
          "output_type": "stream",
          "name": "stdout",
          "text": [
            "100\n",
            "Fahrenheit to Celsius 37.78\n"
          ]
        }
      ],
      "source": [
        "#Creating own function\n",
        "\n",
        "def convert_to_celsius(fahrenheit):\n",
        "  return(fahrenheit-32)*5/9\n",
        "\n",
        "fahrenheit = int(input())\n",
        "print(\"Fahrenheit to Celsius\",round(convert_to_celsius(fahrenheit),2)) "
      ]
    },
    {
      "cell_type": "code",
      "source": [
        "#Create a funtion that will display three consecutive my_function values\n",
        "\n",
        "def my_function(fname):\n",
        "  print(fname+\" Baniqued\")\n",
        "\n",
        "my_function(\"Endrae\")  "
      ],
      "metadata": {
        "colab": {
          "base_uri": "https://localhost:8080/"
        },
        "id": "kxnhRXv_iDBu",
        "outputId": "68fdc9e5-5b07-499f-d025-b5fc095c2ba0"
      },
      "execution_count": null,
      "outputs": [
        {
          "output_type": "stream",
          "name": "stdout",
          "text": [
            "Endrae Baniqued\n"
          ]
        }
      ]
    },
    {
      "cell_type": "code",
      "source": [
        "#Create an arithmetic function\n",
        "\n",
        "def myfunction(x):\n",
        "  return (5+x)\n",
        "\n",
        "print(myfunction(3))  \n",
        "print(myfunction(4))  \n",
        "print(myfunction(5))  "
      ],
      "metadata": {
        "colab": {
          "base_uri": "https://localhost:8080/"
        },
        "id": "4jJmw6ruiwKa",
        "outputId": "6a5003f9-67bd-4b22-9a8e-a90c40c32703"
      },
      "execution_count": null,
      "outputs": [
        {
          "output_type": "stream",
          "name": "stdout",
          "text": [
            "8\n",
            "9\n",
            "10\n"
          ]
        }
      ]
    },
    {
      "cell_type": "code",
      "source": [
        "#Exercise 1\n",
        "print(min(2,3,4))\n",
        "print(max(2,-3,4,7,-5))\n",
        "print(max(2,-3,min(4,7),-5))"
      ],
      "metadata": {
        "id": "tj19FZfommhb"
      },
      "execution_count": null,
      "outputs": []
    },
    {
      "cell_type": "code",
      "source": [
        "#Exercise 2\n",
        "import math\n",
        "\n",
        "def sum(firstInt,secondInt,thirdInt):\n",
        "  return firstInt + secondInt + thirdInt\n",
        "def average(firstInt,secondInt,thirdInt):\n",
        "  return (firstInt + secondInt + thirdInt)/3\n",
        "def sumSquare(firstInt,secondInt,thirdInt):\n",
        "  return math.pow(firstInt,2) + math.pow(secondInt,2) + math.pow(thirdInt,2)\n",
        "\n",
        "firstInt= int(input())\n",
        "secondInt= int(input())\n",
        "thirdInt= int(input())\n",
        "\n",
        "print(\"Sum =\",sum(firstInt,secondInt,thirdInt))\n",
        "print(\"Average =\",average(firstInt,secondInt,thirdInt))\n",
        "print(\"Sum of Squares =\",sumSquare(firstInt,secondInt,thirdInt))"
      ],
      "metadata": {
        "id": "rv7RlTmhmqgP"
      },
      "execution_count": null,
      "outputs": []
    },
    {
      "cell_type": "code",
      "source": [
        "#Application\n",
        "#Create formula of area of different shapes\n",
        "\n",
        "def rectangle(l,w):\n",
        "  return l*w\n",
        "\n",
        "\n",
        "l = int(input())\n",
        "w = int(input())\n",
        "\n",
        "def square(s):\n",
        "  return pow(s,2)\n",
        "  \n",
        "print(rectangle(l,w))"
      ],
      "metadata": {
        "colab": {
          "base_uri": "https://localhost:8080/"
        },
        "id": "ZE_GSIsBmsrs",
        "outputId": "a87e05fa-8675-4038-e1c8-5de6dbdfe39e"
      },
      "execution_count": null,
      "outputs": [
        {
          "output_type": "stream",
          "name": "stdout",
          "text": [
            "6\n",
            "9\n",
            "54\n"
          ]
        }
      ]
    }
  ]
}