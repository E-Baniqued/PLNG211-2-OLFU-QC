{
  "nbformat": 4,
  "nbformat_minor": 0,
  "metadata": {
    "colab": {
      "provenance": [],
      "authorship_tag": "ABX9TyMFj5399tADxGeIRAkfxxtL",
      "include_colab_link": true
    },
    "kernelspec": {
      "name": "python3",
      "display_name": "Python 3"
    },
    "language_info": {
      "name": "python"
    }
  },
  "cells": [
    {
      "cell_type": "markdown",
      "metadata": {
        "id": "view-in-github",
        "colab_type": "text"
      },
      "source": [
        "<a href=\"https://colab.research.google.com/github/E-Baniqued/PLNG211-2-OLFU-QC/blob/main/Arrays.ipynb\" target=\"_parent\"><img src=\"https://colab.research.google.com/assets/colab-badge.svg\" alt=\"Open In Colab\"/></a>"
      ]
    },
    {
      "cell_type": "code",
      "execution_count": 18,
      "metadata": {
        "colab": {
          "base_uri": "https://localhost:8080/"
        },
        "id": "advjNasMON1c",
        "outputId": "afe5b9aa-81f7-4968-d9e2-b4cad9437be0"
      },
      "outputs": [
        {
          "output_type": "stream",
          "name": "stdout",
          "text": [
            "The list of animals in an array are: ['monkey', 'dog', 'fish']\n",
            "The animal in animals[0] is: monkey\n",
            "monkey\n",
            "dog\n",
            "fish\n"
          ]
        }
      ],
      "source": [
        "#Accessing the Elements in the Array\n",
        "\n",
        "animals = ['cat', 'dog', 'fish']\n",
        "x = animals[0]\n",
        "print(\"The list of animals in an array are:\", animals)\n",
        "print(\"The animal in animals[0] is:\", x)\n",
        "for y in animals:\n",
        "  print(y)"
      ]
    },
    {
      "cell_type": "code",
      "source": [
        "#Modifying Elements in the Array\n",
        "\n",
        "animals = [\"cat\", \"dog\", \"fish\"]\n",
        "animals[1] = 'monkey'\n",
        "print(animals)"
      ],
      "metadata": {
        "colab": {
          "base_uri": "https://localhost:8080/"
        },
        "id": "-ajwtWzNS5uZ",
        "outputId": "5c5aa700-5bdf-4e08-bb48-f427f5ff453a"
      },
      "execution_count": 19,
      "outputs": [
        {
          "output_type": "stream",
          "name": "stdout",
          "text": [
            "['cat', 'monkey', 'fish']\n"
          ]
        }
      ]
    },
    {
      "cell_type": "code",
      "source": [
        "#Length of an Array\n",
        "\n",
        "animals = [\"cat\", \"dog\", \"fish\"]\n",
        "x = len(animals)\n",
        "print(x)"
      ],
      "metadata": {
        "colab": {
          "base_uri": "https://localhost:8080/"
        },
        "id": "qbY0Z845TZx6",
        "outputId": "2712db04-8106-48d1-d4bc-7bf31f4eecb6"
      },
      "execution_count": 20,
      "outputs": [
        {
          "output_type": "stream",
          "name": "stdout",
          "text": [
            "3\n"
          ]
        }
      ]
    },
    {
      "cell_type": "code",
      "source": [
        "#Looping Array Elements\n",
        "\n",
        "verbs = [\"jumping\", \"eating\", \"swimming\"]\n",
        "animals = [\"cat\", \"dog\", \"fish\"]\n",
        "for x in verbs:\n",
        "  for y in animals:\n",
        "   print(x,y)"
      ],
      "metadata": {
        "colab": {
          "base_uri": "https://localhost:8080/"
        },
        "id": "PPVhQEzkTnSO",
        "outputId": "4a3a654f-d519-4073-d412-a54e78c67370"
      },
      "execution_count": 23,
      "outputs": [
        {
          "output_type": "stream",
          "name": "stdout",
          "text": [
            "jumping cat\n",
            "jumping dog\n",
            "jumping fish\n",
            "eating cat\n",
            "eating dog\n",
            "eating fish\n",
            "swimming cat\n",
            "swimming dog\n",
            "swimming fish\n"
          ]
        }
      ]
    },
    {
      "cell_type": "code",
      "source": [
        "#Append the Element in the Array\n",
        "\n",
        "animals = ['cat', 'dog', 'fish']\n",
        "animals.append('monkey')\n",
        "print(animals)"
      ],
      "metadata": {
        "colab": {
          "base_uri": "https://localhost:8080/"
        },
        "id": "fdj2uSIIVfIG",
        "outputId": "c4c741af-8567-4aaf-daa1-e6d5ae7ac4ea"
      },
      "execution_count": 24,
      "outputs": [
        {
          "output_type": "stream",
          "name": "stdout",
          "text": [
            "['cat', 'dog', 'fish', 'monkey']\n"
          ]
        }
      ]
    },
    {
      "cell_type": "code",
      "source": [
        "#Insert an Element in the Array\n",
        "\n",
        "animals = ['cat', 'dog', 'fish']\n",
        "animals.insert(0,'bird')\n",
        "print(animals)"
      ],
      "metadata": {
        "colab": {
          "base_uri": "https://localhost:8080/"
        },
        "id": "WJqrjnE0V-vc",
        "outputId": "6ce8e8f0-e7a9-402f-c489-49c98788761f"
      },
      "execution_count": 26,
      "outputs": [
        {
          "output_type": "stream",
          "name": "stdout",
          "text": [
            "['bird', 'cat', 'dog', 'fish']\n"
          ]
        }
      ]
    },
    {
      "cell_type": "code",
      "source": [
        "#Remove an Element in the Array\n",
        "\n",
        "animals.pop(1)\n",
        "print(animals)"
      ],
      "metadata": {
        "colab": {
          "base_uri": "https://localhost:8080/"
        },
        "id": "Ui1t0jgTWLdy",
        "outputId": "192c4e62-0250-4415-ff9c-eabe49e8fa20"
      },
      "execution_count": 27,
      "outputs": [
        {
          "output_type": "stream",
          "name": "stdout",
          "text": [
            "['bird', 'dog', 'fish']\n"
          ]
        }
      ]
    },
    {
      "cell_type": "code",
      "source": [
        "#Array module in Python\n",
        "from array import *\n",
        "numbers = array('i',[1,2,3,4,5])\n",
        "numbers.typecode"
      ],
      "metadata": {
        "colab": {
          "base_uri": "https://localhost:8080/",
          "height": 35
        },
        "id": "nIW0d3udWkaa",
        "outputId": "7be428d9-037a-4231-cf7c-ca73faa65aa2"
      },
      "execution_count": 29,
      "outputs": [
        {
          "output_type": "execute_result",
          "data": {
            "text/plain": [
              "'i'"
            ],
            "application/vnd.google.colaboratory.intrinsic+json": {
              "type": "string"
            }
          },
          "metadata": {},
          "execution_count": 29
        }
      ]
    },
    {
      "cell_type": "code",
      "source": [
        "#Array module in Python\n",
        "#Append\n",
        "from array import *\n",
        "numbers = array('i',[1,2,3,4,5])\n",
        "numbers.append(6)\n",
        "print(numbers)"
      ],
      "metadata": {
        "colab": {
          "base_uri": "https://localhost:8080/"
        },
        "id": "EyepzD3bXtj0",
        "outputId": "93e6e9c1-febc-4216-be6a-7cb6e4da9aee"
      },
      "execution_count": 30,
      "outputs": [
        {
          "output_type": "stream",
          "name": "stdout",
          "text": [
            "array('i', [1, 2, 3, 4, 5, 6])\n"
          ]
        }
      ]
    },
    {
      "cell_type": "code",
      "source": [
        "#Array module in Python\n",
        "#Count\n",
        "#Reverse\n",
        "from array import *\n",
        "numbers = array('i',[1,2,3,4,5,8,8,9,3,5,3])\n",
        "numbers.count(1)\n",
        "numbers.reverse()\n",
        "print(numbers)"
      ],
      "metadata": {
        "colab": {
          "base_uri": "https://localhost:8080/"
        },
        "id": "B1dskP2fX44T",
        "outputId": "0fafc9c0-88bd-4742-ef8e-3009d6ad2210"
      },
      "execution_count": 36,
      "outputs": [
        {
          "output_type": "stream",
          "name": "stdout",
          "text": [
            "array('i', [3, 5, 3, 9, 8, 8, 5, 4, 3, 2, 1])\n"
          ]
        }
      ]
    }
  ]
}